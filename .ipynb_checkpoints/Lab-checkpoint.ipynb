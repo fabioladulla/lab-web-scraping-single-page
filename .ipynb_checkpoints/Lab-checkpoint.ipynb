{
 "cells": [
  {
   "cell_type": "code",
   "execution_count": 24,
   "id": "774061b6-bc35-45b4-adc8-5d576f40b25c",
   "metadata": {},
   "outputs": [],
   "source": [
    "    import requests # to download html code\n",
    "    from bs4 import BeautifulSoup # to navigate through the html code\n",
    "    import pandas as pd\n",
    "    import numpy as np"
   ]
  },
  {
   "cell_type": "code",
   "execution_count": 25,
   "id": "c7872a6f-8bca-4527-9565-d99a777f18e2",
   "metadata": {},
   "outputs": [],
   "source": [
    "def scrape_hot100() ->pd.DataFrame:\n",
    "    '''\n",
    "    This functions create the DataFrame of artist and titles from Top song 100.\n",
    "    \n",
    "    Output: pd.DataFrame\n",
    "    '''\n",
    "    url = \"https://www.billboard.com/charts/hot-100\"\n",
    "    response = requests.get(url)\n",
    "    soup = BeautifulSoup(response.text, 'html.parser')\n",
    "    \n",
    "    artists = [artist.text.strip() for artist in soup.select('span.c-label.a-no-trucate')]\n",
    "    titles = [title.text.strip() for title in soup.select('h3.a-no-trucate.c-title')]\n",
    "    \n",
    "    data = {\n",
    "    'Artist': artists,\n",
    "    'Title': titles,}\n",
    "    df = pd.DataFrame(data)\n",
    "    \n",
    "    return df "
   ]
  },
  {
   "cell_type": "code",
   "execution_count": 26,
   "id": "902ec024-35e8-4f82-b462-6df2083cb239",
   "metadata": {},
   "outputs": [],
   "source": [
    "hot100 = scrape_hot100()"
   ]
  },
  {
   "cell_type": "code",
   "execution_count": 27,
   "id": "a6f0f44e-0f01-4f9e-ab99-de9281a0c311",
   "metadata": {},
   "outputs": [],
   "source": [
    "hot100.to_csv('hot100.csv', index=False)"
   ]
  },
  {
   "cell_type": "code",
   "execution_count": 28,
   "id": "b8f91893-7eb9-4c44-b138-06371210670b",
   "metadata": {},
   "outputs": [
    {
     "data": {
      "text/html": [
       "<div>\n",
       "<style scoped>\n",
       "    .dataframe tbody tr th:only-of-type {\n",
       "        vertical-align: middle;\n",
       "    }\n",
       "\n",
       "    .dataframe tbody tr th {\n",
       "        vertical-align: top;\n",
       "    }\n",
       "\n",
       "    .dataframe thead th {\n",
       "        text-align: right;\n",
       "    }\n",
       "</style>\n",
       "<table border=\"1\" class=\"dataframe\">\n",
       "  <thead>\n",
       "    <tr style=\"text-align: right;\">\n",
       "      <th></th>\n",
       "      <th>Artist</th>\n",
       "      <th>Title</th>\n",
       "    </tr>\n",
       "  </thead>\n",
       "  <tbody>\n",
       "    <tr>\n",
       "      <th>0</th>\n",
       "      <td>Olivia Rodrigo</td>\n",
       "      <td>Vampire</td>\n",
       "    </tr>\n",
       "    <tr>\n",
       "      <th>1</th>\n",
       "      <td>Morgan Wallen</td>\n",
       "      <td>Last Night</td>\n",
       "    </tr>\n",
       "    <tr>\n",
       "      <th>2</th>\n",
       "      <td>Luke Combs</td>\n",
       "      <td>Fast Car</td>\n",
       "    </tr>\n",
       "    <tr>\n",
       "      <th>3</th>\n",
       "      <td>Rema &amp; Selena Gomez</td>\n",
       "      <td>Calm Down</td>\n",
       "    </tr>\n",
       "    <tr>\n",
       "      <th>4</th>\n",
       "      <td>Miley Cyrus</td>\n",
       "      <td>Flowers</td>\n",
       "    </tr>\n",
       "    <tr>\n",
       "      <th>...</th>\n",
       "      <td>...</td>\n",
       "      <td>...</td>\n",
       "    </tr>\n",
       "    <tr>\n",
       "      <th>95</th>\n",
       "      <td>Morgan Wallen</td>\n",
       "      <td>Ain't That Some</td>\n",
       "    </tr>\n",
       "    <tr>\n",
       "      <th>96</th>\n",
       "      <td>Peso Pluma &amp; Jasiel Nunez</td>\n",
       "      <td>Lagunas</td>\n",
       "    </tr>\n",
       "    <tr>\n",
       "      <th>97</th>\n",
       "      <td>Noah Kahan</td>\n",
       "      <td>Dial Drunk</td>\n",
       "    </tr>\n",
       "    <tr>\n",
       "      <th>98</th>\n",
       "      <td>Jelly Roll With Lainey Wilson</td>\n",
       "      <td>Save Me</td>\n",
       "    </tr>\n",
       "    <tr>\n",
       "      <th>99</th>\n",
       "      <td>Miley Cyrus</td>\n",
       "      <td>Jaded</td>\n",
       "    </tr>\n",
       "  </tbody>\n",
       "</table>\n",
       "<p>100 rows × 2 columns</p>\n",
       "</div>"
      ],
      "text/plain": [
       "                           Artist            Title\n",
       "0                  Olivia Rodrigo          Vampire\n",
       "1                   Morgan Wallen       Last Night\n",
       "2                      Luke Combs         Fast Car\n",
       "3             Rema & Selena Gomez        Calm Down\n",
       "4                     Miley Cyrus          Flowers\n",
       "..                            ...              ...\n",
       "95                  Morgan Wallen  Ain't That Some\n",
       "96      Peso Pluma & Jasiel Nunez          Lagunas\n",
       "97                     Noah Kahan       Dial Drunk\n",
       "98  Jelly Roll With Lainey Wilson          Save Me\n",
       "99                    Miley Cyrus            Jaded\n",
       "\n",
       "[100 rows x 2 columns]"
      ]
     },
     "execution_count": 28,
     "metadata": {},
     "output_type": "execute_result"
    }
   ],
   "source": [
    "hot100"
   ]
  },
  {
   "cell_type": "code",
   "execution_count": null,
   "id": "ad532a2e-b767-413f-ad6a-8c36820baf94",
   "metadata": {},
   "outputs": [],
   "source": []
  }
 ],
 "metadata": {
  "kernelspec": {
   "display_name": "Python 3 (ipykernel)",
   "language": "python",
   "name": "python3"
  },
  "language_info": {
   "codemirror_mode": {
    "name": "ipython",
    "version": 3
   },
   "file_extension": ".py",
   "mimetype": "text/x-python",
   "name": "python",
   "nbconvert_exporter": "python",
   "pygments_lexer": "ipython3",
   "version": "3.10.9"
  }
 },
 "nbformat": 4,
 "nbformat_minor": 5
}
